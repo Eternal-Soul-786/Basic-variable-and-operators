{
 "cells": [
  {
   "cell_type": "code",
   "execution_count": 2,
   "metadata": {},
   "outputs": [
    {
     "name": "stdout",
     "output_type": "stream",
     "text": [
      "{1: 1, 2: 2, 3: 3, 4: 4, 5: 5, 7: 7, 8: 8, 'a': 'a', 'b': 'b', 'c': 'c', 'd': 'd'}\n"
     ]
    }
   ],
   "source": [
    "# Python prgm to convert two lists into dictionary\n",
    "list1=[1,2,3,4,5,7,8]\n",
    "list2=[\"a\",\"b\",\"c\",\"d\"]\n",
    "d={}\n",
    "for i in range (len(list2)):\n",
    "    list1.append(list2[i])\n",
    "for i in list1:\n",
    "    d[i]=i\n",
    "print(d)"
   ]
  }
 ],
 "metadata": {
  "kernelspec": {
   "display_name": "Python 3.6 (tensorflow)",
   "language": "python",
   "name": "tensorflow"
  },
  "language_info": {
   "codemirror_mode": {
    "name": "ipython",
    "version": 3
   },
   "file_extension": ".py",
   "mimetype": "text/x-python",
   "name": "python",
   "nbconvert_exporter": "python",
   "pygments_lexer": "ipython3",
   "version": "3.6.9"
  }
 },
 "nbformat": 4,
 "nbformat_minor": 2
}
