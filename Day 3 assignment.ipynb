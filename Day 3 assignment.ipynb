{
 "cells": [
  {
   "cell_type": "markdown",
   "metadata": {},
   "source": [
    "## Sum of n numbers using while loop"
   ]
  },
  {
   "cell_type": "code",
   "execution_count": 4,
   "metadata": {},
   "outputs": [
    {
     "name": "stdout",
     "output_type": "stream",
     "text": [
      "enter the limit5\n",
      "sum of 5 numbers is 15\n"
     ]
    }
   ],
   "source": [
    "n= int(input(\"enter the limit\"))\n",
    "sum=0\n",
    "i=1\n",
    "while i<=n:\n",
    "    sum = sum+i\n",
    "    i=i+1\n",
    "print(\"sum of\",n,\"numbers is\",sum)"
   ]
  },
  {
   "cell_type": "markdown",
   "metadata": {},
   "source": [
    "## Check whether the given string is prime or not"
   ]
  },
  {
   "cell_type": "code",
   "execution_count": 11,
   "metadata": {},
   "outputs": [
    {
     "name": "stdout",
     "output_type": "stream",
     "text": [
      "enter the no17\n",
      "17 is a prime no\n"
     ]
    }
   ],
   "source": [
    "n=int(input(\"enter the no\"))\n",
    "flag =0\n",
    "for i in range(2,n,1):\n",
    "    if(n%i==0):\n",
    "        flag =1\n",
    "        break\n",
    "if(n==1):\n",
    "    print(\"1 is neither prime nor composite\")\n",
    "else:\n",
    "    if(flag==0):\n",
    "        print(n,\"is a prime no\")\n",
    "    else:\n",
    "        print(n,\"is not a prime no\")"
   ]
  }
 ],
 "metadata": {
  "kernelspec": {
   "display_name": "Python 3",
   "language": "python",
   "name": "python3"
  },
  "language_info": {
   "codemirror_mode": {
    "name": "ipython",
    "version": 3
   },
   "file_extension": ".py",
   "mimetype": "text/x-python",
   "name": "python",
   "nbconvert_exporter": "python",
   "pygments_lexer": "ipython3",
   "version": "3.7.3"
  }
 },
 "nbformat": 4,
 "nbformat_minor": 2
}
