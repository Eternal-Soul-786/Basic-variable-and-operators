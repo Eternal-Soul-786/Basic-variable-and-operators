{
 "cells": [
  {
   "cell_type": "code",
   "execution_count": 1,
   "metadata": {},
   "outputs": [
    {
     "name": "stdout",
     "output_type": "stream",
     "text": [
      "[1, 1, 1, 2, 2, 3, 4, 4, 10, 56, 56, 0, 0, 0, 0, 0]\n"
     ]
    }
   ],
   "source": [
    "# Sort the no in increasing order and sort all 0's in right side\n",
    "list1=[0,1,2,10,4,1,0,56,2,0,1,3,0,56,0,4]\n",
    "s=len(list1)\n",
    "list2=[]\n",
    "list3=[]\n",
    "for i in range(s):\n",
    "    if list1[i]!=0:\n",
    "        list2.append(list1[i])\n",
    "list2.sort()\n",
    "for i in range(s):\n",
    "    if list1[i]==0:\n",
    "        list3.append(list1[i])\n",
    "final = list2+list3\n",
    "print(final)"
   ]
  },
  {
   "cell_type": "code",
   "execution_count": 16,
   "metadata": {},
   "outputs": [
    {
     "name": "stdout",
     "output_type": "stream",
     "text": [
      "sorted list: [5, 10, 15, 20, 25, 35, 40, 45, 60, 60, 70, 80]\n"
     ]
    }
   ],
   "source": [
    "# Merge the two sorted list to produce one sorted list, but use only loop for or while only one time.\n",
    "def sortarrays(arr):\n",
    "    length = len(arr)\n",
    "    j=0\n",
    "    while j<length-1:\n",
    "        if(arr[j] > arr[j+1]):\n",
    "            temp=arr[j]\n",
    "            arr[j]=arr[j+1]\n",
    "            arr[j+1]=temp\n",
    "            j=-1\n",
    "        j+=1\n",
    "    return arr\n",
    "list1=[10,20,40,60,70,80]\n",
    "list2=[5,15,25,35,45,60]\n",
    "arr = list1+list2\n",
    "arr = sortarrays(arr)\n",
    "print(\"sorted list:\",arr)\n"
   ]
  }
 ],
 "metadata": {
  "kernelspec": {
   "display_name": "Python 3.6 (tensorflow)",
   "language": "python",
   "name": "tensorflow"
  },
  "language_info": {
   "codemirror_mode": {
    "name": "ipython",
    "version": 3
   },
   "file_extension": ".py",
   "mimetype": "text/x-python",
   "name": "python",
   "nbconvert_exporter": "python",
   "pygments_lexer": "ipython3",
   "version": "3.6.9"
  }
 },
 "nbformat": 4,
 "nbformat_minor": 2
}
